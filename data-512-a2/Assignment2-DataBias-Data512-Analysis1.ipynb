{
 "cells": [
  {
   "cell_type": "markdown",
   "metadata": {},
   "source": [
    "<h1>Bias in data - Analysis 1</h1>\n",
    "\n",
    "<h3>Analyze the demographics and annotations datasets and  answer some of the following questions</h3>\n",
    "<ul><li>Explore relationships between worker demographics and labeling behavior</li>\n",
    "    <li>How consistent are labelling behaviors among workers with different demographic profiles? For example, are female-identified labelers more or less likely to label comments as aggressive than male-identified labelers?</li>\n",
    "    <li>If the labelling behaviors are different, what are some possible causes and consequences of this difference?</li>"
   ]
  },
  {
   "cell_type": "markdown",
   "metadata": {},
   "source": [
    "\n",
    "<h2>\n",
    "Step 1: Background\n",
    "</h2>\n",
    "\n",
    "<p>The goal of this assignment is to identify what, if any, sources of bias may exist in these datasets, and to develop testable hypotheses about how these biases might impact the behavior of machine learning models trained on the data, when those models are used for research purposes or to power data-driven applications. The purpose of this assignment is to perform a self-directed exploratory data analysis and think critically about the implications of the findings.</p>\n",
    "\n",
    "<p>The corpus used for the detox project is called the Wikipedia Talk corpus, and it consists of three datasets. Each dataset contains thousands of online discussion posts made by Wikipedia editors who were discussing how to write and edit Wikipedia articles. Crowdworkers labelled these posts for three kinds of hostile speech: “toxicity”, “aggression”, and “personal attacks”. Many posts in each dataset were labelled by multiple crowdworkers for each type of hostile speech, to improve accuracy.</p>\n",
    "\n",
    "<p>Google data scientists used these <a href='https://figshare.com/projects/Wikipedia_Talk/16731'>annotated datasets</a> to train machine learning models as part of a project called <a href='https://conversationai.github.io/'>Conversation AI</a>. The models have been used in a variety of software products and made freely accessible to anyone through the Perspective API. </p>\n"
   ]
  },
  {
   "cell_type": "markdown",
   "metadata": {},
   "source": [
    "<p>All data we have collected and generated for the <a href='https://meta.wikimedia.org/wiki/Research:Detox'>Wikipedia Detox</a> project is available under free licenses on the <a href ='https://figshare.com/projects/Wikipedia_Talk/16731'>Wikipedia Talk Corpus on Figshare</a>, per the <a href='https://foundation.wikimedia.org/wiki/Open_access_policy'>open access policy</a>. There are currently two distinct types of data included:<p>\n",
    "   <ol><li> A corpus of all 95 million user and article talk diffs made between 2001–2015 which can be scored by our personal attacks model.</li>\n",
    "   <li> An annotated dataset of 1m crowd-sourced annotations that cover 100k talk page diffs (with 10 judgements per diff) for personal attacks, aggression, and toxicity.</li></ol>\n",
    "<h4>These datasets can be downloaded from the below links</h4>\n",
    "\n",
    "<ul><li>https://figshare.com/articles/dataset/Wikipedia_Talk_Labels_Aggression/4267550</li>\n",
    "<li>https://figshare.com/articles/dataset/Wikipedia_Talk_Labels_Toxicity/4563973</li>\n",
    "<li>https://figshare.com/articles/dataset/Wikipedia_Talk_Labels_Personal_Attacks/4054689</li>\n",
    "<li>https://figshare.com/articles/dataset/Wikipedia_Talk_Corpus/4264973</li></ul>"
   ]
  },
  {
   "cell_type": "markdown",
   "metadata": {},
   "source": [
    "<h2>Step 2: Analysis of Personal Attacks dataset </h2>\n",
    "    \n",
    "    \n",
    "<h4><em>We start with importing all the packages we need for doing the data analysis. </em></h4>"
   ]
  },
  {
   "cell_type": "code",
   "execution_count": 196,
   "metadata": {},
   "outputs": [],
   "source": [
    "import pandas as pd\n",
    "import urllib\n",
    "import matplotlib.pyplot as plt\n",
    "import numpy as np\n",
    "import seaborn as sns\n",
    "\n",
    "# for displaying the plots inline\n",
    "%matplotlib inline"
   ]
  },
  {
   "cell_type": "markdown",
   "metadata": {},
   "source": [
    "<h4><em>Download annotated comments,annotations and demographic datasets for personal attacks directly from the urls and save them as .tsv files</em></h4>"
   ]
  },
  {
   "cell_type": "code",
   "execution_count": 198,
   "metadata": {},
   "outputs": [],
   "source": [
    "# download annotated comments and annotations\n",
    "\n",
    "personal_attacks_annotations_url = 'https://ndownloader.figshare.com/files/7554637' \n",
    "personal_attacks_annotated_comments_url = 'https://ndownloader.figshare.com/files/7554634' \n",
    "personal_attacks_worker_demographics_url = 'https://ndownloader.figshare.com/files/7640752'\n",
    "\n",
    "\n",
    "def download_file(url, fname):\n",
    "    urllib.request.urlretrieve(url, fname)\n",
    "\n",
    "                \n",
    "download_file(personal_attacks_annotations_url , 'personal_attacks_annotations.tsv')\n",
    "download_file(personal_attacks_annotated_comments_url, 'personal_attacks_annotated_comments.tsv')\n",
    "download_file(personal_attacks_worker_demographics_url, 'personal_attacks_worker_demographics.tsv')"
   ]
  },
  {
   "cell_type": "markdown",
   "metadata": {},
   "source": [
    "<h4><em> Read all the .tsv files as tab seperated files for personal attacks and save them as python dataframes </em></h4>"
   ]
  },
  {
   "cell_type": "code",
   "execution_count": 199,
   "metadata": {},
   "outputs": [],
   "source": [
    "personal_attacks_comments = pd.read_csv('personal_attacks_annotated_comments.tsv', sep = '\\t', index_col = 0)\n",
    "personal_attacks_demographics = pd.read_csv('personal_attacks_worker_demographics.tsv',  sep = '\\t')\n",
    "personal_attacks_annotations = pd.read_csv('personal_attacks_annotations.tsv',  sep = '\\t');"
   ]
  },
  {
   "cell_type": "markdown",
   "metadata": {},
   "source": [
    "<h3> Potential sources of bias in Personal Attacks dataset: </h3>\n",
    "\n",
    "<p>Analyzing the demographic information about the Crowdflower workers available in the demographics dataset, we can say that these workers represent a very small proportion of population and their opinions and preferences are unlikely to reflect the opinions of the population as a whole. Even if the crowdworkers are perfectly representative of the wide population in their judgements, the raw data they are rating may be insufficient and thus suggest false correlations.How toxic a comment is perceived by annotators may depend on both the annotator and the topic</p>\n",
    "\n",
    "<ul>\n",
    "    <li>There are only about 2190 crowdsource workers.</li>\n",
    "    <li>The gender distribution for the annotators is as follows - Male: 1349, Female: 840, and other: 1. </li>\n",
    "</ul>    "
   ]
  },
  {
   "cell_type": "markdown",
   "metadata": {},
   "source": [
    "<p>Let's understand the different columns in the <strong>demographics</strong> dataset</p>\n",
    "<ul><li><strong>worker_id</strong>: Anonymized crowd-worker id.</li>\n",
    "<li><strong>gender</strong>: The gender of the crowd-worker. Takes a value in {'male', 'female', and 'other'}.</li>\n",
    "<li><strong>english_first_language</strong>: Does the crowd-worker describe English as their first language. Takes a value in {0, 1}.</li>\n",
    "<li><strong>age_group</strong>: The age group of the crowd-worker. Takes on values in {'Under 18', '18-30', '30-45', '45-60', 'Over 60'}.</li>\n",
    "<li><strong>education</strong>: The highest education level obtained by the crowd-worker. Takes on values in {'none', 'some', 'hs', 'bachelors', 'masters', 'doctorate', 'professional'}. Here 'none' means no schooling, some means 'some schooling', 'hs' means high school completion, and the remaining terms indicate completion of the corresponding degree type.</li></ul>"
   ]
  },
  {
   "cell_type": "markdown",
   "metadata": {},
   "source": [
    "<h3>Observations and addtional sources of bias</h3>\n",
    "<ul><li><strong>Features missing values: </strong> Dataframe.count() gives the count of records that have values populated for each column in the dataset. If the dataset has missing values for features for a large number of examples, then that could be an indicator that certain characteristics of the data set are under-represented. Here we observe that no values are missing for any of the features in comments dataset. For demographics dataset, we are missing 1.5% of age_group feature values, but as this percentage is relatively small, we can ignore it. But if the percentage is very high, we need to undersatnd the implications of missing data and undersatnd why they are missing</li>\n",
    "    \n",
    "<p><li><strong>Omitted variable bias: </strong> The research paper highlights that machines are being trained purely on features extracted only from the comment text instead of including features based on the authors’ past behavior and the discussion context. This means that we may be omitting some features which could be directly correlated with the response variable. For example, people’s cultural backgrounds and personal sensibilities play a significant role in whether they perceive content as personal attack. So considering information beyond the text, such as demographic\n",
    "information about the speaker, can improve the accuracy for personal attack detection. Having some background information about the user of a post may be very predictive. A user who is known to write hate speech messages may do so again. A user who is not known to write such messages is unlikely to do so in the future. We do not have this information available. Also, without taking the context into account, the models will be not trained to generalize to unseen examples.</li></p>"
   ]
  },
  {
   "cell_type": "markdown",
   "metadata": {},
   "source": [
    "<strong>We do the following in the below chunk of code: </strong>\n",
    "<ul> \n",
    "    <li>Get an idea of what the comments dataset looks like using the dataframe.head()</li>\n",
    "    <li>Get the count of missing values in the dataset using dataframe.count(). We infer from the results that none of the values are missing for any of the features</li>\n",
    "<ul>"
   ]
  },
  {
   "cell_type": "code",
   "execution_count": 200,
   "metadata": {},
   "outputs": [
    {
     "data": {
      "text/html": [
       "<div>\n",
       "<style scoped>\n",
       "    .dataframe tbody tr th:only-of-type {\n",
       "        vertical-align: middle;\n",
       "    }\n",
       "\n",
       "    .dataframe tbody tr th {\n",
       "        vertical-align: top;\n",
       "    }\n",
       "\n",
       "    .dataframe thead th {\n",
       "        text-align: right;\n",
       "    }\n",
       "</style>\n",
       "<table border=\"1\" class=\"dataframe\">\n",
       "  <thead>\n",
       "    <tr style=\"text-align: right;\">\n",
       "      <th></th>\n",
       "      <th>worker_id</th>\n",
       "      <th>gender</th>\n",
       "      <th>english_first_language</th>\n",
       "      <th>age_group</th>\n",
       "      <th>education</th>\n",
       "    </tr>\n",
       "  </thead>\n",
       "  <tbody>\n",
       "    <tr>\n",
       "      <th>0</th>\n",
       "      <td>833</td>\n",
       "      <td>female</td>\n",
       "      <td>0</td>\n",
       "      <td>45-60</td>\n",
       "      <td>bachelors</td>\n",
       "    </tr>\n",
       "    <tr>\n",
       "      <th>1</th>\n",
       "      <td>1072</td>\n",
       "      <td>male</td>\n",
       "      <td>0</td>\n",
       "      <td>30-45</td>\n",
       "      <td>bachelors</td>\n",
       "    </tr>\n",
       "    <tr>\n",
       "      <th>2</th>\n",
       "      <td>872</td>\n",
       "      <td>male</td>\n",
       "      <td>0</td>\n",
       "      <td>18-30</td>\n",
       "      <td>hs</td>\n",
       "    </tr>\n",
       "    <tr>\n",
       "      <th>3</th>\n",
       "      <td>2116</td>\n",
       "      <td>male</td>\n",
       "      <td>0</td>\n",
       "      <td>30-45</td>\n",
       "      <td>professional</td>\n",
       "    </tr>\n",
       "    <tr>\n",
       "      <th>4</th>\n",
       "      <td>453</td>\n",
       "      <td>male</td>\n",
       "      <td>0</td>\n",
       "      <td>30-45</td>\n",
       "      <td>hs</td>\n",
       "    </tr>\n",
       "  </tbody>\n",
       "</table>\n",
       "</div>"
      ],
      "text/plain": [
       "   worker_id  gender  english_first_language age_group     education\n",
       "0        833  female                       0     45-60     bachelors\n",
       "1       1072    male                       0     30-45     bachelors\n",
       "2        872    male                       0     18-30            hs\n",
       "3       2116    male                       0     30-45  professional\n",
       "4        453    male                       0     30-45            hs"
      ]
     },
     "execution_count": 200,
     "metadata": {},
     "output_type": "execute_result"
    }
   ],
   "source": [
    "personal_attacks_demographics.head()"
   ]
  },
  {
   "cell_type": "markdown",
   "metadata": {},
   "source": [
    "<p>For demographics dataset, we are <strong>missing 1.5%</strong> of age_group feature values, but as this percentage is relatively small, we can ignore it. But if the percentage is very high, we need to understand the implications of missing data and understand why they are missing</p>"
   ]
  },
  {
   "cell_type": "code",
   "execution_count": 201,
   "metadata": {},
   "outputs": [
    {
     "data": {
      "text/plain": [
       "worker_id                 2190\n",
       "gender                    2190\n",
       "english_first_language    2190\n",
       "age_group                 2155\n",
       "education                 2190\n",
       "dtype: int64"
      ]
     },
     "execution_count": 201,
     "metadata": {},
     "output_type": "execute_result"
    }
   ],
   "source": [
    "personal_attacks_demographics.count()"
   ]
  },
  {
   "cell_type": "markdown",
   "metadata": {},
   "source": [
    "<p> Lets understand the different columns in the comments dataset</p>\n",
    "\n",
    "<ul><li><strong>rev_id: </strong> MediaWiki revision id of the edit that added the comment to a talk page (i.e. discussion).</li>\n",
    "<li><strong>comment: </strong> Comment text. Consists of the concatenation of content added during a revision/edit of a talk page. MediaWiki markup and HTML have been stripped out. To simplify tsv parsing, \\n has been mapped to NEWLINE_TOKEN, \\t has been mapped to TAB_TOKEN and \" has been mapped to \".</li>\n",
    "<li><strong>year: </strong> The year the comment was posted in.</li>\n",
    "<li><strong>logged_in: </strong> Indicator for whether the user who made the comment was logged in. Takes on values in {0, 1}.</li>\n",
    "<li><strong>ns: </strong>Namespace of the discussion page the comment was made in. Takes on values in {user, article}.</li>\n",
    "<li><strong>sample: </strong> Indicates whether the comment came via random sampling of all comments, or whether it came from random sampling of the 5 comments around a block event for violating WP:npa or WP:HA. Takes on values in {random, blocked}.</li>\n",
    "<li><strong>split: </strong> For model building in our paper we split comments into train, dev and test sets. Takes on values in {train, dev, test}.</li></ul>\n"
   ]
  },
  {
   "cell_type": "markdown",
   "metadata": {},
   "source": [
    "<strong>We do the following in the below chunk of code: </strong>\n",
    "<ul> \n",
    "    <li>Get an idea of what the comments dataset looks like using the dataframe.head()</li>\n",
    "    <li>Get the count of missing values in the dataset using dataframe.count(). We infer from the results that none of the values are missing for any of the features</li>\n",
    "<ul>"
   ]
  },
  {
   "cell_type": "code",
   "execution_count": 202,
   "metadata": {},
   "outputs": [
    {
     "data": {
      "text/html": [
       "<div>\n",
       "<style scoped>\n",
       "    .dataframe tbody tr th:only-of-type {\n",
       "        vertical-align: middle;\n",
       "    }\n",
       "\n",
       "    .dataframe tbody tr th {\n",
       "        vertical-align: top;\n",
       "    }\n",
       "\n",
       "    .dataframe thead th {\n",
       "        text-align: right;\n",
       "    }\n",
       "</style>\n",
       "<table border=\"1\" class=\"dataframe\">\n",
       "  <thead>\n",
       "    <tr style=\"text-align: right;\">\n",
       "      <th></th>\n",
       "      <th>comment</th>\n",
       "      <th>year</th>\n",
       "      <th>logged_in</th>\n",
       "      <th>ns</th>\n",
       "      <th>sample</th>\n",
       "      <th>split</th>\n",
       "    </tr>\n",
       "    <tr>\n",
       "      <th>rev_id</th>\n",
       "      <th></th>\n",
       "      <th></th>\n",
       "      <th></th>\n",
       "      <th></th>\n",
       "      <th></th>\n",
       "      <th></th>\n",
       "    </tr>\n",
       "  </thead>\n",
       "  <tbody>\n",
       "    <tr>\n",
       "      <th>37675</th>\n",
       "      <td>`-NEWLINE_TOKENThis is not ``creative``.  Thos...</td>\n",
       "      <td>2002</td>\n",
       "      <td>False</td>\n",
       "      <td>article</td>\n",
       "      <td>random</td>\n",
       "      <td>train</td>\n",
       "    </tr>\n",
       "    <tr>\n",
       "      <th>44816</th>\n",
       "      <td>`NEWLINE_TOKENNEWLINE_TOKEN:: the term ``stand...</td>\n",
       "      <td>2002</td>\n",
       "      <td>False</td>\n",
       "      <td>article</td>\n",
       "      <td>random</td>\n",
       "      <td>train</td>\n",
       "    </tr>\n",
       "    <tr>\n",
       "      <th>49851</th>\n",
       "      <td>NEWLINE_TOKENNEWLINE_TOKENTrue or false, the s...</td>\n",
       "      <td>2002</td>\n",
       "      <td>False</td>\n",
       "      <td>article</td>\n",
       "      <td>random</td>\n",
       "      <td>train</td>\n",
       "    </tr>\n",
       "    <tr>\n",
       "      <th>89320</th>\n",
       "      <td>Next, maybe you could work on being less cond...</td>\n",
       "      <td>2002</td>\n",
       "      <td>True</td>\n",
       "      <td>article</td>\n",
       "      <td>random</td>\n",
       "      <td>dev</td>\n",
       "    </tr>\n",
       "    <tr>\n",
       "      <th>93890</th>\n",
       "      <td>This page will need disambiguation.</td>\n",
       "      <td>2002</td>\n",
       "      <td>True</td>\n",
       "      <td>article</td>\n",
       "      <td>random</td>\n",
       "      <td>train</td>\n",
       "    </tr>\n",
       "  </tbody>\n",
       "</table>\n",
       "</div>"
      ],
      "text/plain": [
       "                                                  comment  year  logged_in  \\\n",
       "rev_id                                                                       \n",
       "37675   `-NEWLINE_TOKENThis is not ``creative``.  Thos...  2002      False   \n",
       "44816   `NEWLINE_TOKENNEWLINE_TOKEN:: the term ``stand...  2002      False   \n",
       "49851   NEWLINE_TOKENNEWLINE_TOKENTrue or false, the s...  2002      False   \n",
       "89320    Next, maybe you could work on being less cond...  2002       True   \n",
       "93890                This page will need disambiguation.   2002       True   \n",
       "\n",
       "             ns  sample  split  \n",
       "rev_id                          \n",
       "37675   article  random  train  \n",
       "44816   article  random  train  \n",
       "49851   article  random  train  \n",
       "89320   article  random    dev  \n",
       "93890   article  random  train  "
      ]
     },
     "execution_count": 202,
     "metadata": {},
     "output_type": "execute_result"
    }
   ],
   "source": [
    "personal_attacks_comments.head()"
   ]
  },
  {
   "cell_type": "markdown",
   "metadata": {},
   "source": [
    "<p>For demographics dataset, we are <strong>not missing </strong> values for any of the features</p>"
   ]
  },
  {
   "cell_type": "code",
   "execution_count": 203,
   "metadata": {},
   "outputs": [
    {
     "data": {
      "text/plain": [
       "comment      115864\n",
       "year         115864\n",
       "logged_in    115864\n",
       "ns           115864\n",
       "sample       115864\n",
       "split        115864\n",
       "dtype: int64"
      ]
     },
     "execution_count": 203,
     "metadata": {},
     "output_type": "execute_result"
    }
   ],
   "source": [
    "personal_attacks_comments.count()"
   ]
  },
  {
   "cell_type": "markdown",
   "metadata": {},
   "source": [
    "<strong>The below code chunk does the following</strong>\n",
    "<ul><li>Remove newline and tab tokens from personal_attacks_comments dataset</li>\n",
    "    <li>Label a comment as an attack if the majority of annotators did so. Here we assume a classifier threshold of 0.5, that is when more than 50% of annotators quote a comment as attack, we consider it an attack</li>\n",
    "    <li>Join the comments with labels</li>\n",
    "    <li>Display comments from the dataframe where attack is True using dataframe.query</li>\n",
    "    <li>Display the dataframe using dataframe.head() function</li>\n",
    "</ul>"
   ]
  },
  {
   "cell_type": "code",
   "execution_count": 204,
   "metadata": {},
   "outputs": [],
   "source": [
    "personal_attacks_comments['comment'] = personal_attacks_comments['comment'].apply(lambda x: x.replace(\"NEWLINE_TOKEN\", \" \"))\n",
    "personal_attacks_comments['comment'] = personal_attacks_comments['comment'].apply(lambda x: x.replace(\"TAB_TOKEN\", \" \"))"
   ]
  },
  {
   "cell_type": "code",
   "execution_count": 205,
   "metadata": {},
   "outputs": [
    {
     "data": {
      "text/html": [
       "<div>\n",
       "<style scoped>\n",
       "    .dataframe tbody tr th:only-of-type {\n",
       "        vertical-align: middle;\n",
       "    }\n",
       "\n",
       "    .dataframe tbody tr th {\n",
       "        vertical-align: top;\n",
       "    }\n",
       "\n",
       "    .dataframe thead th {\n",
       "        text-align: right;\n",
       "    }\n",
       "</style>\n",
       "<table border=\"1\" class=\"dataframe\">\n",
       "  <thead>\n",
       "    <tr style=\"text-align: right;\">\n",
       "      <th></th>\n",
       "      <th>comment</th>\n",
       "      <th>year</th>\n",
       "      <th>logged_in</th>\n",
       "      <th>ns</th>\n",
       "      <th>sample</th>\n",
       "      <th>split</th>\n",
       "      <th>attack</th>\n",
       "    </tr>\n",
       "    <tr>\n",
       "      <th>rev_id</th>\n",
       "      <th></th>\n",
       "      <th></th>\n",
       "      <th></th>\n",
       "      <th></th>\n",
       "      <th></th>\n",
       "      <th></th>\n",
       "      <th></th>\n",
       "    </tr>\n",
       "  </thead>\n",
       "  <tbody>\n",
       "    <tr>\n",
       "      <th>37675</th>\n",
       "      <td>`- This is not ``creative``.  Those are the di...</td>\n",
       "      <td>2002</td>\n",
       "      <td>False</td>\n",
       "      <td>article</td>\n",
       "      <td>random</td>\n",
       "      <td>train</td>\n",
       "      <td>False</td>\n",
       "    </tr>\n",
       "    <tr>\n",
       "      <th>44816</th>\n",
       "      <td>`  :: the term ``standard model`` is itself le...</td>\n",
       "      <td>2002</td>\n",
       "      <td>False</td>\n",
       "      <td>article</td>\n",
       "      <td>random</td>\n",
       "      <td>train</td>\n",
       "      <td>False</td>\n",
       "    </tr>\n",
       "    <tr>\n",
       "      <th>49851</th>\n",
       "      <td>True or false, the situation as of March 200...</td>\n",
       "      <td>2002</td>\n",
       "      <td>False</td>\n",
       "      <td>article</td>\n",
       "      <td>random</td>\n",
       "      <td>train</td>\n",
       "      <td>False</td>\n",
       "    </tr>\n",
       "    <tr>\n",
       "      <th>89320</th>\n",
       "      <td>Next, maybe you could work on being less cond...</td>\n",
       "      <td>2002</td>\n",
       "      <td>True</td>\n",
       "      <td>article</td>\n",
       "      <td>random</td>\n",
       "      <td>dev</td>\n",
       "      <td>False</td>\n",
       "    </tr>\n",
       "    <tr>\n",
       "      <th>93890</th>\n",
       "      <td>This page will need disambiguation.</td>\n",
       "      <td>2002</td>\n",
       "      <td>True</td>\n",
       "      <td>article</td>\n",
       "      <td>random</td>\n",
       "      <td>train</td>\n",
       "      <td>False</td>\n",
       "    </tr>\n",
       "  </tbody>\n",
       "</table>\n",
       "</div>"
      ],
      "text/plain": [
       "                                                  comment  year  logged_in  \\\n",
       "rev_id                                                                       \n",
       "37675   `- This is not ``creative``.  Those are the di...  2002      False   \n",
       "44816   `  :: the term ``standard model`` is itself le...  2002      False   \n",
       "49851     True or false, the situation as of March 200...  2002      False   \n",
       "89320    Next, maybe you could work on being less cond...  2002       True   \n",
       "93890                This page will need disambiguation.   2002       True   \n",
       "\n",
       "             ns  sample  split  attack  \n",
       "rev_id                                  \n",
       "37675   article  random  train   False  \n",
       "44816   article  random  train   False  \n",
       "49851   article  random  train   False  \n",
       "89320   article  random    dev   False  \n",
       "93890   article  random  train   False  "
      ]
     },
     "execution_count": 205,
     "metadata": {},
     "output_type": "execute_result"
    }
   ],
   "source": [
    "labels = personal_attacks_annotations.groupby('rev_id')['attack'].mean() > 0.5\n",
    "personal_attacks_comments['attack'] = labels\n",
    "personal_attacks_comments.head()"
   ]
  },
  {
   "cell_type": "markdown",
   "metadata": {},
   "source": [
    "<p>We call the function <strong>identityInComment</strong> by passing in the cleaned up comments that are perceived personal attacks and also the list of identity words representing targeted groups that appear in these comments</p>"
   ]
  },
  {
   "cell_type": "code",
   "execution_count": 206,
   "metadata": {},
   "outputs": [],
   "source": [
    "def identityInComment(str_list,identity_list):\n",
    "    \n",
    "    count_wrd =0 \n",
    "    count_comment = 0\n",
    "    wrd_list = []\n",
    "    for s in str_list:\n",
    "        count_comment+=1\n",
    "        #print(\"master str : \",s)\n",
    "        for wrd in identity_list:\n",
    "            if(wrd in s):\n",
    "                wrd_list.append(wrd)\n",
    "                count_wrd+=1\n",
    "                \n",
    "    return count_wrd,count_comment,list(set(wrd_list))"
   ]
  },
  {
   "cell_type": "markdown",
   "metadata": {},
   "source": [
    "<p>We can infer from above code that some of the common words associated with personal attack are <strong>'deaf', 'blind', 'muslim', 'gay', 'black', 'woman', 'sexuality', 'feminist','destroy', 'loser', 'kill', 'hate', 'attack'</strong></p>\n",
    "\n",
    "<strong>The below code chunk does the following</strong>\n",
    "<ul><li>Get the comments from the dataframe where attack column is True using dataframe.query into the list 'str_list'</li>\n",
    "    <li>Define the list that contains some identity words as 'identity_list'</li>\n",
    "    <li>Define the list that contains some words pertaining to hatespeech as 'hatespeech_list'</li>\n",
    "    <li>Call the function identityInComment by passing in the arguments str_list and identity_list and get the values for count of identity words that appeared in these many number of comments and also the actual identity words</li>\n",
    "    <li>Call the function identityInComment by passing in the arguments str_list and hatespeech_list and get the values for count of hatespeech words that appeared in these many number of comments and also the actual hatespeech words</li>\n",
    "</ul>"
   ]
  },
  {
   "cell_type": "code",
   "execution_count": 207,
   "metadata": {},
   "outputs": [
    {
     "name": "stdout",
     "output_type": "stream",
     "text": [
      "\n",
      "Number of times identity words appeared in comments that are perceived as attacks ==> 717  times identity words in 13590  comments \n",
      "Identity words that appeared in the list:  ['woman', 'black', 'feminist', 'deaf', 'gay', 'Asian', 'sexuality', 'African', 'muslim', 'blind']\n",
      "\n",
      "Number of times hate-speech words appeared in comments that are perceived as attacks ==> 1707  times hateful words in 13590  comments \n",
      "Hate-speech words that appeared in the list:  ['attack', 'hate', 'loser', 'terror', 'kill', 'destroy']\n"
     ]
    }
   ],
   "source": [
    "str_list = personal_attacks_comments.query('attack')['comment']\n",
    "identity_list = ['black', 'muslim', 'feminist', 'woman', 'gay','deaf','blind','African','Asian','sexuality']\n",
    "hatespeech_list = ['kill','hate','loser','destroy','attack','terror']\n",
    "print()\n",
    "count_wrd,count_comment,lst = identityInComment(str_list,identity_list)  \n",
    "print(\"Number of times identity words appeared in comments that are perceived as attacks ==>\", count_wrd , \" times identity words in\" , count_comment, \" comments \") \n",
    "print(\"Identity words that appeared in the list: \",lst)\n",
    "print()\n",
    "count_wrd_hate,count_comment_hate,lst = identityInComment(str_list,hatespeech_list) \n",
    "print(\"Number of times hate-speech words appeared in comments that are perceived as attacks ==>\", count_wrd_hate , \" times hateful words in\" , count_comment_hate, \" comments \") \n",
    "print(\"Hate-speech words that appeared in the list: \",lst)"
   ]
  },
  {
   "cell_type": "markdown",
   "metadata": {},
   "source": [
    "<li><strong>Implicit or Experimenter's bias: </strong>For training classifiers, we need to create a corpus that contains a sufficient number and variety of examples of personal attacks. In order to ensure representativeness and overall prevalence of personal attack comments, comments are randomly sampled from the full corpus as well as from the blocked dataset that contains comments made by users who were blocked for violating Wikipedia’s policy on personal attacks. But this could be linked to Experimenter's bias because here the experimenter assumes that the comments from blocked dataset are indeed attacks. But thinking deeply, the comments from blocked dataset could also contain biased data. Automation tools could have scored the comments in the blocked dataset and induced some sort bias into the data. Besides this, even if the comments are attacks, they need not be personal attacks. The overall prevalence of personal attacks in the subset of corpus sampled randomly will still be small in the sample data. This means Machine may not have adequate hate speech data to train on</li>\n",
    "\n",
    "<p><li><strong>Selection bias: </strong>This type of bias occurs when a model itself influences the generation of data that is used to train it. Blocked dataset contains comments made by users who were blocked for violating Wikipedia’s policy on personal attacks, but some of these comments could have been wrongly scored by automation tools based on Machine's learning that has induced biases and are just false positives. The below counts indicate that not all comments from the blocked dataset would necessarily be attacks. The count says 65126 comments from the blocked dataset may not be attacks at all in the first place. </li></p>\n",
    "\n",
    "<p><li><strong>Unintended bias </strong> It can be observed that the frequently targeted groups, represented by the identity words such as “black”, “muslim”, “feminist”, “woman”, “gay” etc, are over-represented in abusive and toxic comments. This implies the training data used to train machines exhibit the same trend. When the training data used to train machine learning models contain these comments, ML models adopt the biases that exist in these underlying distributions.These identity terms of targeted groups appear far more often in abusive comments. It is much rarer for these words to appear in a positive, affirming statements.</li></p>\n",
    "\n",
    "<p><li><strong>False positives: </strong> Flagging identity terms as hate-speech results in False Positives.There is little agreement on what actually constitutes hate speech. Translating an abstract definition into a clearer and more concrete one can make annotation easier, but doing so comes with its own risks. Tools that rely on narrow definitions will miss some of the targeted speech, may be easier to evade, and may be more likely to disproportionately target one or more subtypes\n",
    "of the targeted speech. The general rule that false negatives and false positives should be balanced. However, this\n",
    "assumption ignores the particular stakes of decisions that affect a person’s human rights, liberty interests,\n",
    "or access to benefits </li></p>\n"
   ]
  },
  {
   "cell_type": "code",
   "execution_count": 208,
   "metadata": {},
   "outputs": [
    {
     "name": "stdout",
     "output_type": "stream",
     "text": [
      "# records from blocked dataset considered an attack:  13246\n",
      "# records from blocked dataset considered not an attack:  65126\n"
     ]
    }
   ],
   "source": [
    "df1= personal_attacks_comments\n",
    "print(\"# records from blocked dataset considered an attack: \",len(df1[np.logical_and(df1['sample'] == 'blocked',df1['attack'] == True)]))\n",
    "print(\"# records from blocked dataset considered not an attack: \",len(df1[np.logical_and(df1['sample'] == 'blocked',df1['attack'] == False)]))"
   ]
  },
  {
   "cell_type": "markdown",
   "metadata": {},
   "source": [
    "In order to understand the distribution of crowdflower workers in demographic datasets, we plot the histogram of gender feature. It clearly shows that males are overrepresented than females and other group"
   ]
  },
  {
   "cell_type": "code",
   "execution_count": 209,
   "metadata": {},
   "outputs": [
    {
     "name": "stdout",
     "output_type": "stream",
     "text": [
      "Males crowdflower workers:  1349\n",
      "Female crowdflower workers:  840\n",
      "Other gender crowdflower workers:  1\n"
     ]
    },
    {
     "data": {
      "image/png": "[encoded data removed]",
      "text/plain": [
       "<Figure size 1080x432 with 1 Axes>"
      ]
     },
     "metadata": {
      "needs_background": "light"
     },
     "output_type": "display_data"
    }
   ],
   "source": [
    "fig, ax = plt.subplots(figsize=(15, 6))\n",
    "plt.hist(personal_attacks_demographics['gender']);\n",
    "print(\"Males crowdflower workers: \",len(personal_attacks_demographics[personal_attacks_demographics['gender'] == \"male\"]))\n",
    "print(\"Female crowdflower workers: \",len(personal_attacks_demographics[personal_attacks_demographics['gender'] == \"female\"]))\n",
    "print(\"Other gender crowdflower workers: \",len(personal_attacks_demographics[personal_attacks_demographics['gender'] == \"other\"]))"
   ]
  },
  {
   "cell_type": "code",
   "execution_count": 210,
   "metadata": {},
   "outputs": [],
   "source": [
    "fig.savefig('C:/Users/Lakshmi/Desktop/UW DataScience application/Data 512/Week 2/gender_crowdflower.jpg')"
   ]
  },
  {
   "cell_type": "markdown",
   "metadata": {},
   "source": [
    "<p> Lets understand the different columns in the <strong>annotations</strong> dataset</p>\n",
    "\n",
    "<ul><li><strong>rev_id: </strong> MediaWiki revision id of the edit that added the comment to a talk page (i.e. discussion).</li>\n",
    "<li><strong>worker_id: </strong> Anonymized crowd-worker id.</li>\n",
    "<li><strong>quoting_attack: </strong> Indicator for whether the worker thought the comment is quoting or reporting a personal attack that originated in a different comment.</li>\n",
    "<li><strong>recipient_attack: </strong> Indicator for whether the worker thought the comment contains a personal attack directed at the recipient of the comment.</li>\n",
    "<li><strong>third_party_attack: </strong>Indicator for whether the worker thought the comment contains a personal attack directed at a third party.</li>\n",
    "<li><strong>other_attack: </strong> Indicator for whether the worker thought the comment contains a personal attack but is not quoting attack, a recipient attack or third party attack.</li>\n",
    "<li><strong>attack:  </strong> Indicator for whether the worker thought the comment contains any form of personal attack. The exact question we posed can be found . The annotation takes on value 0 if the worker selected the option \"This is not an attack or harassment\" and value 1 otherwise.</li></ul>\n",
    "\n",
    "\n",
    "<strong>We do the following in the below chunk of code: </strong>\n",
    "<ul> \n",
    "    <li>Get an idea of what the annotations dataset looks like using the dataframe.head()</li>\n",
    "    <li>Get the count of missing values in the dataset using dataframe.count(). We infer from the results that none of the values are missing for any of the features</li>\n",
    "<ul>"
   ]
  },
  {
   "cell_type": "code",
   "execution_count": 211,
   "metadata": {},
   "outputs": [
    {
     "data": {
      "text/html": [
       "<div>\n",
       "<style scoped>\n",
       "    .dataframe tbody tr th:only-of-type {\n",
       "        vertical-align: middle;\n",
       "    }\n",
       "\n",
       "    .dataframe tbody tr th {\n",
       "        vertical-align: top;\n",
       "    }\n",
       "\n",
       "    .dataframe thead th {\n",
       "        text-align: right;\n",
       "    }\n",
       "</style>\n",
       "<table border=\"1\" class=\"dataframe\">\n",
       "  <thead>\n",
       "    <tr style=\"text-align: right;\">\n",
       "      <th></th>\n",
       "      <th>rev_id</th>\n",
       "      <th>worker_id</th>\n",
       "      <th>quoting_attack</th>\n",
       "      <th>recipient_attack</th>\n",
       "      <th>third_party_attack</th>\n",
       "      <th>other_attack</th>\n",
       "      <th>attack</th>\n",
       "    </tr>\n",
       "  </thead>\n",
       "  <tbody>\n",
       "    <tr>\n",
       "      <th>0</th>\n",
       "      <td>37675</td>\n",
       "      <td>1362</td>\n",
       "      <td>0.0</td>\n",
       "      <td>0.0</td>\n",
       "      <td>0.0</td>\n",
       "      <td>0.0</td>\n",
       "      <td>0.0</td>\n",
       "    </tr>\n",
       "    <tr>\n",
       "      <th>1</th>\n",
       "      <td>37675</td>\n",
       "      <td>2408</td>\n",
       "      <td>0.0</td>\n",
       "      <td>0.0</td>\n",
       "      <td>0.0</td>\n",
       "      <td>0.0</td>\n",
       "      <td>0.0</td>\n",
       "    </tr>\n",
       "    <tr>\n",
       "      <th>2</th>\n",
       "      <td>37675</td>\n",
       "      <td>1493</td>\n",
       "      <td>0.0</td>\n",
       "      <td>0.0</td>\n",
       "      <td>0.0</td>\n",
       "      <td>0.0</td>\n",
       "      <td>0.0</td>\n",
       "    </tr>\n",
       "    <tr>\n",
       "      <th>3</th>\n",
       "      <td>37675</td>\n",
       "      <td>1439</td>\n",
       "      <td>0.0</td>\n",
       "      <td>0.0</td>\n",
       "      <td>0.0</td>\n",
       "      <td>0.0</td>\n",
       "      <td>0.0</td>\n",
       "    </tr>\n",
       "    <tr>\n",
       "      <th>4</th>\n",
       "      <td>37675</td>\n",
       "      <td>170</td>\n",
       "      <td>0.0</td>\n",
       "      <td>0.0</td>\n",
       "      <td>0.0</td>\n",
       "      <td>0.0</td>\n",
       "      <td>0.0</td>\n",
       "    </tr>\n",
       "  </tbody>\n",
       "</table>\n",
       "</div>"
      ],
      "text/plain": [
       "   rev_id  worker_id  quoting_attack  recipient_attack  third_party_attack  \\\n",
       "0   37675       1362             0.0               0.0                 0.0   \n",
       "1   37675       2408             0.0               0.0                 0.0   \n",
       "2   37675       1493             0.0               0.0                 0.0   \n",
       "3   37675       1439             0.0               0.0                 0.0   \n",
       "4   37675        170             0.0               0.0                 0.0   \n",
       "\n",
       "   other_attack  attack  \n",
       "0           0.0     0.0  \n",
       "1           0.0     0.0  \n",
       "2           0.0     0.0  \n",
       "3           0.0     0.0  \n",
       "4           0.0     0.0  "
      ]
     },
     "execution_count": 211,
     "metadata": {},
     "output_type": "execute_result"
    }
   ],
   "source": [
    "personal_attacks_annotations.head()"
   ]
  },
  {
   "cell_type": "code",
   "execution_count": 212,
   "metadata": {},
   "outputs": [
    {
     "data": {
      "text/plain": [
       "rev_id                1365217\n",
       "worker_id             1365217\n",
       "quoting_attack        1365217\n",
       "recipient_attack      1365217\n",
       "third_party_attack    1365217\n",
       "other_attack          1365217\n",
       "attack                1365217\n",
       "dtype: int64"
      ]
     },
     "execution_count": 212,
     "metadata": {},
     "output_type": "execute_result"
    }
   ],
   "source": [
    "personal_attacks_annotations.count()"
   ]
  },
  {
   "cell_type": "markdown",
   "metadata": {},
   "source": [
    "<h3>Explore relationships between worker demographics and labeling behavior</h3>"
   ]
  },
  {
   "cell_type": "markdown",
   "metadata": {},
   "source": [
    "<strong>  \n",
    "Here, we get the number of crowdflower workers for each age group grouped by gender. For all the gender groups, the age group 18-30 has the highest number of annotators. Females have 395 annotators from age group 18-30. Males have 653 annotators from age group 18-30.</strong>"
   ]
  },
  {
   "cell_type": "code",
   "execution_count": 213,
   "metadata": {},
   "outputs": [
    {
     "data": {
      "text/plain": [
       "gender  age_group\n",
       "female  18-30        395\n",
       "        30-45        300\n",
       "        45-60        114\n",
       "        Over 60       11\n",
       "        Under 18       9\n",
       "male    18-30        653\n",
       "        30-45        531\n",
       "        45-60        104\n",
       "        Under 18      28\n",
       "        Over 60        9\n",
       "other   18-30          1\n",
       "Name: age_group, dtype: int64"
      ]
     },
     "execution_count": 213,
     "metadata": {},
     "output_type": "execute_result"
    }
   ],
   "source": [
    "personal_attacks_demographics.groupby('gender')['age_group'].value_counts()"
   ]
  },
  {
   "cell_type": "code",
   "execution_count": 232,
   "metadata": {},
   "outputs": [
    {
     "data": {
      "text/plain": [
       "<Figure size 720x576 with 0 Axes>"
      ]
     },
     "metadata": {},
     "output_type": "display_data"
    },
    {
     "data": {
      "image/png": "[encoded data removed]",
      "text/plain": [
       "<Figure size 476.275x360 with 1 Axes>"
      ]
     },
     "metadata": {
      "needs_background": "light"
     },
     "output_type": "display_data"
    }
   ],
   "source": [
    "plt.figure(figsize=(10,8))\n",
    "sns.set_context(\"notebook\", font_scale=1.5, rc={\"lines.linewidth\":2})\n",
    "\n",
    "sns_plot = sns.catplot(y=\"age_group\", hue=\"gender\", kind=\"count\",\n",
    "            data=personal_attacks_demographics)\n",
    "plt.title(\"Count of Human Annotators by Age_group and Gender\", size=15)\n",
    "sns_plot.savefig('C:/Users/Lakshmi/Desktop/UW DataScience application/Data 512/Week 2/genderbyAgegroup_attack.jpg');"
   ]
  },
  {
   "cell_type": "markdown",
   "metadata": {},
   "source": [
    "<strong>For all the gender groups, the individuals with bachelors education constitute major chunk of annotators. Females have 363 annotators holding bachelors degree. Males have 498 annotators holding bachelors degree.</strong>"
   ]
  },
  {
   "cell_type": "code",
   "execution_count": 215,
   "metadata": {},
   "outputs": [
    {
     "data": {
      "text/plain": [
       "gender  education   \n",
       "female  bachelors       363\n",
       "        hs              240\n",
       "        masters         148\n",
       "        professional     63\n",
       "        some             18\n",
       "        doctorate         8\n",
       "male    bachelors       498\n",
       "        hs              391\n",
       "        masters         237\n",
       "        professional    180\n",
       "        some             30\n",
       "        doctorate        12\n",
       "        none              1\n",
       "other   bachelors         1\n",
       "Name: education, dtype: int64"
      ]
     },
     "execution_count": 215,
     "metadata": {},
     "output_type": "execute_result"
    }
   ],
   "source": [
    "personal_attacks_demographics.groupby('gender')['education'].value_counts()"
   ]
  },
  {
   "cell_type": "code",
   "execution_count": 233,
   "metadata": {},
   "outputs": [
    {
     "data": {
      "text/plain": [
       "<Figure size 720x576 with 0 Axes>"
      ]
     },
     "metadata": {},
     "output_type": "display_data"
    },
    {
     "data": {
      "image/png": "[encoded data removed]",
      "text/plain": [
       "<Figure size 476.275x360 with 1 Axes>"
      ]
     },
     "metadata": {
      "needs_background": "light"
     },
     "output_type": "display_data"
    }
   ],
   "source": [
    "plt.figure(figsize=(10,8))\n",
    "sns.set_context(\"notebook\", font_scale=1.5, rc={\"lines.linewidth\":2})\n",
    "\n",
    "sns_plot = sns.catplot(y=\"education\", hue=\"gender\", kind=\"count\",\n",
    "            data=personal_attacks_demographics)\n",
    "plt.title(\"Count of Human Annotators by Education and Gender\", size=15)\n",
    "sns_plot.savefig('C:/Users/Lakshmi/Desktop/UW DataScience application/Data 512/Week 2/genderbyEducation_attack.jpg');"
   ]
  },
  {
   "cell_type": "markdown",
   "metadata": {},
   "source": [
    "<strong>For all the gender groups, the individuals that constitute major chunk of annotators have English not as first language. There are 637 female annotators and 1150 male annotators falling under this category.</strong>"
   ]
  },
  {
   "cell_type": "code",
   "execution_count": 217,
   "metadata": {},
   "outputs": [
    {
     "data": {
      "text/plain": [
       "gender  english_first_language\n",
       "female  0                          637\n",
       "        1                          203\n",
       "male    0                         1150\n",
       "        1                          199\n",
       "other   0                            1\n",
       "Name: english_first_language, dtype: int64"
      ]
     },
     "execution_count": 217,
     "metadata": {},
     "output_type": "execute_result"
    }
   ],
   "source": [
    "personal_attacks_demographics.groupby('gender')['english_first_language'].value_counts()"
   ]
  },
  {
   "cell_type": "code",
   "execution_count": 234,
   "metadata": {},
   "outputs": [
    {
     "data": {
      "text/plain": [
       "<Figure size 720x576 with 0 Axes>"
      ]
     },
     "metadata": {},
     "output_type": "display_data"
    },
    {
     "data": {
      "image/png": "[encoded data removed]",
      "text/plain": [
       "<Figure size 476.275x360 with 1 Axes>"
      ]
     },
     "metadata": {
      "needs_background": "light"
     },
     "output_type": "display_data"
    }
   ],
   "source": [
    "plt.figure(figsize=(10,8))\n",
    "sns.set_context(\"notebook\", font_scale=1.5, rc={\"lines.linewidth\":2})\n",
    "\n",
    "sns_plot = sns.catplot(y=\"english_first_language\", hue=\"gender\", kind=\"count\",\n",
    "            data=personal_attacks_demographics)\n",
    "plt.title(\"Count of Human Annotators by English_first_language and Gender\", size=15)\n",
    "sns_plot.savefig('C:/Users/Lakshmi/Desktop/UW DataScience application/Data 512/Week 2/genderbyEngFirstLanguage_attack.jpg');"
   ]
  },
  {
   "cell_type": "markdown",
   "metadata": {},
   "source": [
    "<h3>How consistent are labelling behaviors among workers with different demographic profiles? For example, are female-identified labelers more or less likely to label comments as personal attack than male-identified labelers?</h3>\n",
    "\n",
    "<p><strong>A biased annotator population and group Attribution Bias: </strong> We see that females are more likely to call a comment an attack as compared to males. This is because females constitute only 38% and males constitute 61% of crowdflower workers. Some of the other gender groups such as transgenders constitute less than 1%. Females and other gender people are underrepresented in the data. This might potentially cause gender and group attribution bias where crowdflower workers belonging to a particular gender might consider comments targeting another gender not an attack. There is a tendency to stereotype individual members of a group to which crowdflower workers do not belong. At the same time, there is a preference for the members of the group that crowflower workers belong to. This means males who are overrepresented in the crowdflower group might not consider comments targeting women and other genders as an attack. This is one of the many reason why Females are more likely to label an attack as Personal attack as compared to males. Also, other gender groups are also poorly represented among the crowdflower workers, so we are not able to derive any useful information regarding the other group gender.<p>\n",
    "\n",
    "\n",
    "<p>The below code chunk does the following</p>\n",
    "<ul><li>An annotator is more likely to label comments as personal attack if more than 50% of the comments are labelled by the annotator as personal attacks</li>\n",
    "    <li>Join the demographics with labels</li>\n",
    "    <li>Display gender from the dataframe where attack is True using dataframe.query</li>\n",
    "    <li>Display the dataframe using dataframe.head() function</li>\n",
    "</ul>"
   ]
  },
  {
   "cell_type": "markdown",
   "metadata": {},
   "source": [
    "<strong>Each annotator (identified by worked id) may have many comments to annotate. Each of the comments is identified by rev_id. If more than 50% of the comments are labelled by the annotator as personal attacks, then 'LabelCommentsAsAttack' will be True else False</strong>"
   ]
  },
  {
   "cell_type": "code",
   "execution_count": 219,
   "metadata": {},
   "outputs": [
    {
     "data": {
      "text/html": [
       "<div>\n",
       "<style scoped>\n",
       "    .dataframe tbody tr th:only-of-type {\n",
       "        vertical-align: middle;\n",
       "    }\n",
       "\n",
       "    .dataframe tbody tr th {\n",
       "        vertical-align: top;\n",
       "    }\n",
       "\n",
       "    .dataframe thead th {\n",
       "        text-align: right;\n",
       "    }\n",
       "</style>\n",
       "<table border=\"1\" class=\"dataframe\">\n",
       "  <thead>\n",
       "    <tr style=\"text-align: right;\">\n",
       "      <th></th>\n",
       "      <th>worker_id</th>\n",
       "      <th>gender</th>\n",
       "      <th>english_first_language</th>\n",
       "      <th>age_group</th>\n",
       "      <th>education</th>\n",
       "      <th>LabelCommentsAsAttack</th>\n",
       "    </tr>\n",
       "  </thead>\n",
       "  <tbody>\n",
       "    <tr>\n",
       "      <th>0</th>\n",
       "      <td>833</td>\n",
       "      <td>female</td>\n",
       "      <td>0</td>\n",
       "      <td>45-60</td>\n",
       "      <td>bachelors</td>\n",
       "      <td>False</td>\n",
       "    </tr>\n",
       "    <tr>\n",
       "      <th>1</th>\n",
       "      <td>1072</td>\n",
       "      <td>male</td>\n",
       "      <td>0</td>\n",
       "      <td>30-45</td>\n",
       "      <td>bachelors</td>\n",
       "      <td>False</td>\n",
       "    </tr>\n",
       "    <tr>\n",
       "      <th>2</th>\n",
       "      <td>872</td>\n",
       "      <td>male</td>\n",
       "      <td>0</td>\n",
       "      <td>18-30</td>\n",
       "      <td>hs</td>\n",
       "      <td>False</td>\n",
       "    </tr>\n",
       "    <tr>\n",
       "      <th>3</th>\n",
       "      <td>2116</td>\n",
       "      <td>male</td>\n",
       "      <td>0</td>\n",
       "      <td>30-45</td>\n",
       "      <td>professional</td>\n",
       "      <td>False</td>\n",
       "    </tr>\n",
       "    <tr>\n",
       "      <th>4</th>\n",
       "      <td>453</td>\n",
       "      <td>male</td>\n",
       "      <td>0</td>\n",
       "      <td>30-45</td>\n",
       "      <td>hs</td>\n",
       "      <td>False</td>\n",
       "    </tr>\n",
       "  </tbody>\n",
       "</table>\n",
       "</div>"
      ],
      "text/plain": [
       "   worker_id  gender  english_first_language age_group     education  \\\n",
       "0        833  female                       0     45-60     bachelors   \n",
       "1       1072    male                       0     30-45     bachelors   \n",
       "2        872    male                       0     18-30            hs   \n",
       "3       2116    male                       0     30-45  professional   \n",
       "4        453    male                       0     30-45            hs   \n",
       "\n",
       "   LabelCommentsAsAttack  \n",
       "0                  False  \n",
       "1                  False  \n",
       "2                  False  \n",
       "3                  False  \n",
       "4                  False  "
      ]
     },
     "execution_count": 219,
     "metadata": {},
     "output_type": "execute_result"
    }
   ],
   "source": [
    "labels = personal_attacks_annotations.groupby('worker_id')['attack'].mean() > 0.5\n",
    "personal_attacks_demographics['LabelCommentsAsAttack'] = labels\n",
    "personal_attacks_demographics.head()"
   ]
  },
  {
   "cell_type": "markdown",
   "metadata": {},
   "source": [
    "<p><strong>The below code chunk does the following</strong></p>\n",
    "<ul><li>An annotator is more likely to label comment as personal attack if more than 50% of the comments are labelled by the annotator as personal attacks. We get all those annotators who meet this condition and get the gender distribution of these annotators</li>\n",
    "    <li>We get the education distribution of annotators who are more likely to label a comment as attack</li>\n",
    "    <li>We get the age_group distribution of annotators who are more likely to label a comment as attack</li>\n",
    "</ul>"
   ]
  },
  {
   "cell_type": "code",
   "execution_count": 220,
   "metadata": {},
   "outputs": [
    {
     "name": "stdout",
     "output_type": "stream",
     "text": [
      "male      27\n",
      "female    25\n",
      "Name: gender, dtype: int64\n",
      "\n",
      "bachelors       17\n",
      "hs              13\n",
      "masters         12\n",
      "professional     8\n",
      "doctorate        2\n",
      "Name: education, dtype: int64\n",
      "\n",
      "30-45      24\n",
      "18-30      23\n",
      "45-60       4\n",
      "Over 60     1\n",
      "Name: age_group, dtype: int64\n"
     ]
    }
   ],
   "source": [
    "print(personal_attacks_demographics.query('LabelCommentsAsAttack')['gender'].value_counts())\n",
    "print()\n",
    "print(personal_attacks_demographics.query('LabelCommentsAsAttack')['education'].value_counts())\n",
    "print()\n",
    "print(personal_attacks_demographics.query('LabelCommentsAsAttack')['age_group'].value_counts())"
   ]
  },
  {
   "cell_type": "markdown",
   "metadata": {},
   "source": [
    "<strong>Male crowdflower workers who are likely to call a comment as personal attack constitute 2% and female annotators constitute 3%. This could be because of gender attribution bias. Also, most of the comments are targeted at females and other gender groups as compared to males.</strong>"
   ]
  },
  {
   "cell_type": "code",
   "execution_count": 221,
   "metadata": {},
   "outputs": [
    {
     "name": "stdout",
     "output_type": "stream",
     "text": [
      "Male crowdflower workers who are likely to call a comment as personal attack:  2.001482579688658  %\n",
      "Female crowdflower workers who are likely to call a comment as personal attack:  2.976190476190476  %\n",
      "Other gender crowdflower workers who are likely to call a comment as personal attack:  0  %\n"
     ]
    }
   ],
   "source": [
    "print(\"Male crowdflower workers who are likely to call a comment as personal attack: \", (27/1349)*100 , \" %\")\n",
    "print(\"Female crowdflower workers who are likely to call a comment as personal attack: \",  (25/840)*100 , \" %\")\n",
    "print(\"Other gender crowdflower workers who are likely to call a comment as personal attack: \", 0, \" %\")"
   ]
  },
  {
   "cell_type": "markdown",
   "metadata": {},
   "source": [
    "<h3>If the labelling behaviors are different, what are some possible causes and consequences of this difference?</h3>"
   ]
  },
  {
   "cell_type": "markdown",
   "metadata": {},
   "source": [
    "<ul><li>People’s cultural backgrounds and personal sensibilities play a significant role in whether they perceive content as personal attack. So considering information beyond the text, such as demographic\n",
    "information about the speaker, can improve the accuracy for personal attack detection. Having some background information about the user of a post may be very predictive. A user who is known to write hate speech messages may do so again. A user who is not known to write such messages is unlikely to do so in the future. We do not have this information available. Also, without taking the context into account, the models will be not trained to generalize to unseen examples. This caused unintended bias so we want to have equal distribution of all gender types. Also, only a small proportion of annotators contributing this content and their opinions and preferences are unlikely to reflect the opinions of the population as a whole. We need to have more participation in human annotation. </li>\n",
    "    \n",
    "<p><li>There is little agreement on what actually constitutes hate speech. Translating an abstract definition into a clearer and more concrete one can make annotation easier, but doing so comes with its own risks. Tools that rely on narrow definitions will miss some of the targeted speech, may be easier to evade, and may be more likely to disproportionately target one or more subtypes of the targeted speech. The general rule that false negatives and false positives should be balanced. However, this assumption ignores the particular stakes of decisions that affect a person’s human rights, liberty interests, or access to benefits</li></p>"
   ]
  }
 ],
 "metadata": {
  "kernelspec": {
   "display_name": "Python 3",
   "language": "python",
   "name": "python3"
  },
  "language_info": {
   "codemirror_mode": {
    "name": "ipython",
    "version": 3
   },
   "file_extension": ".py",
   "mimetype": "text/x-python",
   "name": "python",
   "nbconvert_exporter": "python",
   "pygments_lexer": "ipython3",
   "version": "3.8.2"
  }
 },
 "nbformat": 4,
 "nbformat_minor": 4
}
