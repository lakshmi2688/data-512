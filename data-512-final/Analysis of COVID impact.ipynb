{
 "cells": [
  {
   "cell_type": "markdown",
   "metadata": {},
   "source": [
    "# Analysis of COVID impact"
   ]
  },
  {
   "cell_type": "markdown",
   "metadata": {},
   "source": [
    "<h3> Motivation </h3> \n",
    "\n",
    "<p>The goal of this project is to explore the COVID-19 data and its overall impact on people’s behavior, mental health, and livelihoods. There is a large amount of emotionally negative stimuli related to the COVID-19 pandemic. How do people prepare themselves in difficult times like this? Understanding the impact on people is important in order to mitigate the effects and be more prepared in the future. Analyzing and exploring people's response to pandemic can provide useful insights into perspective about COVID and how prepared are the people. Does the pandemic affect minority groups more than others?  How do different groups based on age, race and ethnicity differ in their behavior or attitude towards COVID? It will also be useful to explore patterns in people's response based on certain factors. Is there any change in people's attitude from week 1 of phase 1 to the last week in phase 2?</p>\n",
    "\n",
    "<h3>Data sources</h3>\n",
    "<p>The <a href='https://www2.census.gov/programs-surveys/demo/technical-documentation/hhp/2020_HPS_Background.pdf'>Household Pulse Survey</a> provides timely data to help understand the experiences of American households during the coronavirus pandemic. The data provide insight on education, employment, food security, health, housing, social security benefits, household spending, and transportation. Data Collection has been done in 2 phases.</p>\n",
    "<ul><li>The first phase of the Household Pulse Survey began on April 23 and ended on July 21, 2020.</li>\n",
    "<li>The second phase of the Household Pulse Survey began on August 19, 2020 and ended on October 26, 2020 </li></ul></p>\n",
    "\n",
    "<h4> Links to Data set and Data dictionary</h4>\n",
    "<p>The datasets are available for public use under <a href='https://www.census.gov/programs-surveys/household-pulse-survey/datasets.html'>census.gov</a> website as weekly files. \n",
    "\n",
    "<p>Data dictionary is available in the census.gov website under the following links</p>\n",
    "<li><a href='https://www.census.gov/programs-surveys/household-pulse-survey/technical-documentation.html#phase1'>Phase 1 Household Pulse Survey Technical Documentation</a></li>\n",
    "<li><a href='https://www.census.gov/programs-surveys/household-pulse-survey/technical-documentation.html#phasePhase2'>Phase 2 Household Pulse Survey Technical Documentation</a></li>\n",
    "\n",
    "<p>The datasets are very rich and informative. Phase 1 dataset has 215 variables and includes employment status, food security, housing, physical and mental health, access to health care, and educational disruption. Phase 2 dataset has 383 variables and includes responses from people on how their domains are changing as the pandemic continues and, application and receipt of benefits, spending patterns, and availability of financial resources, post-secondary education disruptions, capacity to telework, and travel practices. In order to support the nation’s recovery, we need to know the ways this pandemic has affected people’s lives and livelihoods. Data from this survey will show the widespread effects of the coronavirus pandemic on individuals, families, and communities across the country.</p>\n",
    "\n",
    "<h4>Terms of use of census data </h4>\n",
    "<p>The Census Bureau is committed to open government by sharing its public data as open data. Census data continues to be a key national resource, serving as a fuel for entrepreneurship and innovation, scientific discovery, and commercial activity.  We continuously identify and publish datasets and Application Programming Interface’s (API’s) to Data.gov in accordance with the Office of Management and Budget (OMB) Memorandum M-10-06, the Executive Order 13642 on open data, and the overall principles outlined in the Digital Government Strategy.  In accordance with the Open Data Policy, M-13-13, the Census Bureau publishes its information in machine-readable formats while also safeguarding privacy and security.</p>\n",
    "\n",
    "<h3>Unknowns and dependencies</h3>\n",
    "<p>The dataset is very huge and susceptible to memory allocation errors. In this case, sample of records from master dataset might have to be considered. </p>"
   ]
  },
  {
   "cell_type": "code",
   "execution_count": null,
   "metadata": {},
   "outputs": [],
   "source": []
  }
 ],
 "metadata": {
  "kernelspec": {
   "display_name": "Python 3",
   "language": "python",
   "name": "python3"
  },
  "language_info": {
   "codemirror_mode": {
    "name": "ipython",
    "version": 3
   },
   "file_extension": ".py",
   "mimetype": "text/x-python",
   "name": "python",
   "nbconvert_exporter": "python",
   "pygments_lexer": "ipython3",
   "version": "3.8.3"
  }
 },
 "nbformat": 4,
 "nbformat_minor": 4
}
