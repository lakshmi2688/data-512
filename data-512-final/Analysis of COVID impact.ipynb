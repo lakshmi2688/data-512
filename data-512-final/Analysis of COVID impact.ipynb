{
 "cells": [
  {
   "cell_type": "code",
   "execution_count": 8,
   "metadata": {},
   "outputs": [],
   "source": [
    "# MOTIVATION AND DATA SOURCE"
   ]
  },
  {
   "cell_type": "markdown",
   "metadata": {},
   "source": [
    "<p><STRONG>Motivation</STRONG>: The goal of this project is to explore the COVID-19 data and its overall impact on people’s behavior, mental health, and livelihoods. There is a large amount of emotionally negative stimuli related to the COVID-19 pandemic. How do people prepare themselves in difficult times like this? Understanding the impact on people is important in order to mitigate the effects and be more prepared in the future. Analyzing and exploring people's response to pandemic can provide useful insights into perspective about COVID and how prepared are the people. Does the pandemic affect minority groups more than others?  How do different groups based on age, race and ethnicity differ in their behavior or attitude towards COVID? It will also be useful to explore patterns in people's response based on certain factors. Is there any change in people's attitude from week 1 of phase 1 to the last week in phase 2?</p>\n",
    "\n",
    "<p><strong>Data source</strong>:The <a href='https://www2.census.gov/programs-surveys/demo/technical-documentation/hhp/2020_HPS_Background.pdf'>Household Pulse Survey</a> provides timely data to help understand the experiences of American households during the coronavirus pandemic. The data provide insight on education, employment, food security, health, housing, social security benefits, household spending, and transportation. Data Collection has been done in 2 phases.</p>\n",
    "<ul><li>The first phase of the Household Pulse Survey began on April 23 and ended on July 21, 2020.</li>\n",
    "<li>The second phase of the Household Pulse Survey began on August 19, 2020 and ended on October 26, 2020 </li></ul>\n",
    "\n",
    "\n",
    "<p>The datasets are available for public use under <a href='https://www.census.gov/programs-surveys/household-pulse-survey/datasets.html'>census.gov</a> website as weekly files. The combined data for each phase is available in datacatalog.urban.org website under the <a href='https://opendatacommons.org/licenses/by/1-0/'>Open Data Commons Attribution License.</a>The links for the combined files are <a href='https://datacatalog.urban.org/dataset/census-pulse-public-use-files'>phase 1</a> and <a href='https://datacatalog.urban.org/dataset/census-pulse-public-use-files-phase-2'>phase 2</a><p>\n",
    "\n",
    "<p></p>\n",
    "\n"
   ]
  },
  {
   "cell_type": "markdown",
   "metadata": {},
   "source": [
    "# IMPORT LIBRARIES AND DATASETS"
   ]
  },
  {
   "cell_type": "markdown",
   "metadata": {},
   "source": [
    "Let's first import all the packages that you will need during this assignment.\n",
    "- [numpy](https://www.numpy.org/) is the fundamental package for scientific computing with Python.\n",
    "- [sklearn](http://scikit-learn.org/stable/) provides simple and efficient tools for data mining and data analysis. \n",
    "- [matplotlib](http://matplotlib.org) is a library for plotting graphs in Python.\n"
   ]
  },
  {
   "cell_type": "markdown",
   "metadata": {},
   "source": []
  }
 ],
 "metadata": {
  "kernelspec": {
   "display_name": "Python 3",
   "language": "python",
   "name": "python3"
  },
  "language_info": {
   "codemirror_mode": {
    "name": "ipython",
    "version": 3
   },
   "file_extension": ".py",
   "mimetype": "text/x-python",
   "name": "python",
   "nbconvert_exporter": "python",
   "pygments_lexer": "ipython3",
   "version": "3.8.3"
  }
 },
 "nbformat": 4,
 "nbformat_minor": 4
}
